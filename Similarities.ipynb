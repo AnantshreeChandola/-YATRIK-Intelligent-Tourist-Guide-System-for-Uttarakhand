{
 "cells": [
  {
   "cell_type": "code",
   "execution_count": 66,
   "metadata": {},
   "outputs": [],
   "source": [
    "import numpy as np\n",
    "import pandas as pd\n",
    "import matplotlib.pyplot as plt\n",
    "from collections import defaultdict"
   ]
  },
  {
   "cell_type": "code",
   "execution_count": 67,
   "metadata": {},
   "outputs": [],
   "source": [
    "data=pd.read_csv(\"export1.csv\")"
   ]
  },
  {
   "cell_type": "code",
   "execution_count": 68,
   "metadata": {},
   "outputs": [
    {
     "data": {
      "text/html": [
       "<div>\n",
       "<style scoped>\n",
       "    .dataframe tbody tr th:only-of-type {\n",
       "        vertical-align: middle;\n",
       "    }\n",
       "\n",
       "    .dataframe tbody tr th {\n",
       "        vertical-align: top;\n",
       "    }\n",
       "\n",
       "    .dataframe thead th {\n",
       "        text-align: right;\n",
       "    }\n",
       "</style>\n",
       "<table border=\"1\" class=\"dataframe\">\n",
       "  <thead>\n",
       "    <tr style=\"text-align: right;\">\n",
       "      <th></th>\n",
       "      <th>place</th>\n",
       "      <th>Adventure</th>\n",
       "      <th>Recreation</th>\n",
       "      <th>Beauty</th>\n",
       "      <th>Pilgrim</th>\n",
       "      <th>History</th>\n",
       "      <th>Trekcamp</th>\n",
       "      <th>Food and Culture</th>\n",
       "    </tr>\n",
       "  </thead>\n",
       "  <tbody>\n",
       "    <tr>\n",
       "      <th>0</th>\n",
       "      <td>Jim Corbett National Park</td>\n",
       "      <td>50</td>\n",
       "      <td>70</td>\n",
       "      <td>80</td>\n",
       "      <td>0</td>\n",
       "      <td>50</td>\n",
       "      <td>0</td>\n",
       "      <td>85</td>\n",
       "    </tr>\n",
       "    <tr>\n",
       "      <th>1</th>\n",
       "      <td>Mussoorie</td>\n",
       "      <td>90</td>\n",
       "      <td>100</td>\n",
       "      <td>60</td>\n",
       "      <td>10</td>\n",
       "      <td>90</td>\n",
       "      <td>50</td>\n",
       "      <td>100</td>\n",
       "    </tr>\n",
       "    <tr>\n",
       "      <th>2</th>\n",
       "      <td>Nainital</td>\n",
       "      <td>95</td>\n",
       "      <td>90</td>\n",
       "      <td>65</td>\n",
       "      <td>67</td>\n",
       "      <td>91</td>\n",
       "      <td>49</td>\n",
       "      <td>100</td>\n",
       "    </tr>\n",
       "    <tr>\n",
       "      <th>3</th>\n",
       "      <td>Almora</td>\n",
       "      <td>55</td>\n",
       "      <td>91</td>\n",
       "      <td>71</td>\n",
       "      <td>72</td>\n",
       "      <td>90</td>\n",
       "      <td>52</td>\n",
       "      <td>97</td>\n",
       "    </tr>\n",
       "    <tr>\n",
       "      <th>4</th>\n",
       "      <td>Auli</td>\n",
       "      <td>97</td>\n",
       "      <td>60</td>\n",
       "      <td>81</td>\n",
       "      <td>9</td>\n",
       "      <td>11</td>\n",
       "      <td>94</td>\n",
       "      <td>75</td>\n",
       "    </tr>\n",
       "    <tr>\n",
       "      <th>...</th>\n",
       "      <td>...</td>\n",
       "      <td>...</td>\n",
       "      <td>...</td>\n",
       "      <td>...</td>\n",
       "      <td>...</td>\n",
       "      <td>...</td>\n",
       "      <td>...</td>\n",
       "      <td>...</td>\n",
       "    </tr>\n",
       "    <tr>\n",
       "      <th>167</th>\n",
       "      <td>Shri Siddhbali dham</td>\n",
       "      <td>20</td>\n",
       "      <td>38</td>\n",
       "      <td>40</td>\n",
       "      <td>60</td>\n",
       "      <td>77</td>\n",
       "      <td>9</td>\n",
       "      <td>95</td>\n",
       "    </tr>\n",
       "    <tr>\n",
       "      <th>168</th>\n",
       "      <td>Kartik Swami</td>\n",
       "      <td>15</td>\n",
       "      <td>15</td>\n",
       "      <td>75</td>\n",
       "      <td>80</td>\n",
       "      <td>80</td>\n",
       "      <td>15</td>\n",
       "      <td>52</td>\n",
       "    </tr>\n",
       "    <tr>\n",
       "      <th>169</th>\n",
       "      <td>Panwali Kantha</td>\n",
       "      <td>65</td>\n",
       "      <td>20</td>\n",
       "      <td>89</td>\n",
       "      <td>91</td>\n",
       "      <td>55</td>\n",
       "      <td>94</td>\n",
       "      <td>0</td>\n",
       "    </tr>\n",
       "    <tr>\n",
       "      <th>170</th>\n",
       "      <td>Robber's Cave</td>\n",
       "      <td>60</td>\n",
       "      <td>74</td>\n",
       "      <td>75</td>\n",
       "      <td>0</td>\n",
       "      <td>9</td>\n",
       "      <td>0</td>\n",
       "      <td>80</td>\n",
       "    </tr>\n",
       "    <tr>\n",
       "      <th>171</th>\n",
       "      <td>Khatling Cave/Trek</td>\n",
       "      <td>75</td>\n",
       "      <td>20</td>\n",
       "      <td>80</td>\n",
       "      <td>36</td>\n",
       "      <td>45</td>\n",
       "      <td>91</td>\n",
       "      <td>0</td>\n",
       "    </tr>\n",
       "  </tbody>\n",
       "</table>\n",
       "<p>172 rows × 8 columns</p>\n",
       "</div>"
      ],
      "text/plain": [
       "                         place  Adventure  Recreation  Beauty  Pilgrim  \\\n",
       "0    Jim Corbett National Park         50          70      80        0   \n",
       "1                    Mussoorie         90         100      60       10   \n",
       "2                     Nainital         95          90      65       67   \n",
       "3                       Almora         55          91      71       72   \n",
       "4                         Auli         97          60      81        9   \n",
       "..                         ...        ...         ...     ...      ...   \n",
       "167        Shri Siddhbali dham         20          38      40       60   \n",
       "168               Kartik Swami         15          15      75       80   \n",
       "169             Panwali Kantha         65          20      89       91   \n",
       "170              Robber's Cave         60          74      75        0   \n",
       "171         Khatling Cave/Trek         75          20      80       36   \n",
       "\n",
       "     History  Trekcamp  Food and Culture  \n",
       "0         50         0                85  \n",
       "1         90        50               100  \n",
       "2         91        49               100  \n",
       "3         90        52                97  \n",
       "4         11        94                75  \n",
       "..       ...       ...               ...  \n",
       "167       77         9                95  \n",
       "168       80        15                52  \n",
       "169       55        94                 0  \n",
       "170        9         0                80  \n",
       "171       45        91                 0  \n",
       "\n",
       "[172 rows x 8 columns]"
      ]
     },
     "execution_count": 68,
     "metadata": {},
     "output_type": "execute_result"
    }
   ],
   "source": [
    "data"
   ]
  },
  {
   "cell_type": "code",
   "execution_count": 69,
   "metadata": {},
   "outputs": [
    {
     "data": {
      "text/plain": [
       "0      Jim Corbett National Park\n",
       "1                      Mussoorie\n",
       "2                       Nainital\n",
       "3                         Almora\n",
       "4                           Auli\n",
       "                 ...            \n",
       "167          Shri Siddhbali dham\n",
       "168                 Kartik Swami\n",
       "169               Panwali Kantha\n",
       "170                Robber's Cave\n",
       "171           Khatling Cave/Trek\n",
       "Name: place, Length: 172, dtype: object"
      ]
     },
     "execution_count": 69,
     "metadata": {},
     "output_type": "execute_result"
    }
   ],
   "source": [
    "data.place"
   ]
  },
  {
   "cell_type": "code",
   "execution_count": 70,
   "metadata": {},
   "outputs": [],
   "source": [
    "d=data.iloc[0:172,1:8]"
   ]
  },
  {
   "cell_type": "code",
   "execution_count": 71,
   "metadata": {},
   "outputs": [
    {
     "data": {
      "text/html": [
       "<div>\n",
       "<style scoped>\n",
       "    .dataframe tbody tr th:only-of-type {\n",
       "        vertical-align: middle;\n",
       "    }\n",
       "\n",
       "    .dataframe tbody tr th {\n",
       "        vertical-align: top;\n",
       "    }\n",
       "\n",
       "    .dataframe thead th {\n",
       "        text-align: right;\n",
       "    }\n",
       "</style>\n",
       "<table border=\"1\" class=\"dataframe\">\n",
       "  <thead>\n",
       "    <tr style=\"text-align: right;\">\n",
       "      <th></th>\n",
       "      <th>Adventure</th>\n",
       "      <th>Recreation</th>\n",
       "      <th>Beauty</th>\n",
       "      <th>Pilgrim</th>\n",
       "      <th>History</th>\n",
       "      <th>Trekcamp</th>\n",
       "      <th>Food and Culture</th>\n",
       "    </tr>\n",
       "  </thead>\n",
       "  <tbody>\n",
       "    <tr>\n",
       "      <th>0</th>\n",
       "      <td>50</td>\n",
       "      <td>70</td>\n",
       "      <td>80</td>\n",
       "      <td>0</td>\n",
       "      <td>50</td>\n",
       "      <td>0</td>\n",
       "      <td>85</td>\n",
       "    </tr>\n",
       "    <tr>\n",
       "      <th>1</th>\n",
       "      <td>90</td>\n",
       "      <td>100</td>\n",
       "      <td>60</td>\n",
       "      <td>10</td>\n",
       "      <td>90</td>\n",
       "      <td>50</td>\n",
       "      <td>100</td>\n",
       "    </tr>\n",
       "    <tr>\n",
       "      <th>2</th>\n",
       "      <td>95</td>\n",
       "      <td>90</td>\n",
       "      <td>65</td>\n",
       "      <td>67</td>\n",
       "      <td>91</td>\n",
       "      <td>49</td>\n",
       "      <td>100</td>\n",
       "    </tr>\n",
       "    <tr>\n",
       "      <th>3</th>\n",
       "      <td>55</td>\n",
       "      <td>91</td>\n",
       "      <td>71</td>\n",
       "      <td>72</td>\n",
       "      <td>90</td>\n",
       "      <td>52</td>\n",
       "      <td>97</td>\n",
       "    </tr>\n",
       "    <tr>\n",
       "      <th>4</th>\n",
       "      <td>97</td>\n",
       "      <td>60</td>\n",
       "      <td>81</td>\n",
       "      <td>9</td>\n",
       "      <td>11</td>\n",
       "      <td>94</td>\n",
       "      <td>75</td>\n",
       "    </tr>\n",
       "    <tr>\n",
       "      <th>...</th>\n",
       "      <td>...</td>\n",
       "      <td>...</td>\n",
       "      <td>...</td>\n",
       "      <td>...</td>\n",
       "      <td>...</td>\n",
       "      <td>...</td>\n",
       "      <td>...</td>\n",
       "    </tr>\n",
       "    <tr>\n",
       "      <th>167</th>\n",
       "      <td>20</td>\n",
       "      <td>38</td>\n",
       "      <td>40</td>\n",
       "      <td>60</td>\n",
       "      <td>77</td>\n",
       "      <td>9</td>\n",
       "      <td>95</td>\n",
       "    </tr>\n",
       "    <tr>\n",
       "      <th>168</th>\n",
       "      <td>15</td>\n",
       "      <td>15</td>\n",
       "      <td>75</td>\n",
       "      <td>80</td>\n",
       "      <td>80</td>\n",
       "      <td>15</td>\n",
       "      <td>52</td>\n",
       "    </tr>\n",
       "    <tr>\n",
       "      <th>169</th>\n",
       "      <td>65</td>\n",
       "      <td>20</td>\n",
       "      <td>89</td>\n",
       "      <td>91</td>\n",
       "      <td>55</td>\n",
       "      <td>94</td>\n",
       "      <td>0</td>\n",
       "    </tr>\n",
       "    <tr>\n",
       "      <th>170</th>\n",
       "      <td>60</td>\n",
       "      <td>74</td>\n",
       "      <td>75</td>\n",
       "      <td>0</td>\n",
       "      <td>9</td>\n",
       "      <td>0</td>\n",
       "      <td>80</td>\n",
       "    </tr>\n",
       "    <tr>\n",
       "      <th>171</th>\n",
       "      <td>75</td>\n",
       "      <td>20</td>\n",
       "      <td>80</td>\n",
       "      <td>36</td>\n",
       "      <td>45</td>\n",
       "      <td>91</td>\n",
       "      <td>0</td>\n",
       "    </tr>\n",
       "  </tbody>\n",
       "</table>\n",
       "<p>172 rows × 7 columns</p>\n",
       "</div>"
      ],
      "text/plain": [
       "     Adventure  Recreation  Beauty  Pilgrim  History  Trekcamp  \\\n",
       "0           50          70      80        0       50         0   \n",
       "1           90         100      60       10       90        50   \n",
       "2           95          90      65       67       91        49   \n",
       "3           55          91      71       72       90        52   \n",
       "4           97          60      81        9       11        94   \n",
       "..         ...         ...     ...      ...      ...       ...   \n",
       "167         20          38      40       60       77         9   \n",
       "168         15          15      75       80       80        15   \n",
       "169         65          20      89       91       55        94   \n",
       "170         60          74      75        0        9         0   \n",
       "171         75          20      80       36       45        91   \n",
       "\n",
       "     Food and Culture  \n",
       "0                  85  \n",
       "1                 100  \n",
       "2                 100  \n",
       "3                  97  \n",
       "4                  75  \n",
       "..                ...  \n",
       "167                95  \n",
       "168                52  \n",
       "169                 0  \n",
       "170                80  \n",
       "171                 0  \n",
       "\n",
       "[172 rows x 7 columns]"
      ]
     },
     "execution_count": 71,
     "metadata": {},
     "output_type": "execute_result"
    }
   ],
   "source": [
    "d"
   ]
  },
  {
   "cell_type": "code",
   "execution_count": 72,
   "metadata": {},
   "outputs": [],
   "source": [
    "import seaborn as sns"
   ]
  },
  {
   "cell_type": "code",
   "execution_count": 73,
   "metadata": {},
   "outputs": [
    {
     "data": {
      "text/plain": [
       "<AxesSubplot:>"
      ]
     },
     "execution_count": 73,
     "metadata": {},
     "output_type": "execute_result"
    },
    {
     "data": {
      "image/png": "[encoded data removed]",
      "text/plain": [
       "<Figure size 432x288 with 2 Axes>"
      ]
     },
     "metadata": {
      "needs_background": "light"
     },
     "output_type": "display_data"
    }
   ],
   "source": [
    "sns.heatmap(d)"
   ]
  },
  {
   "cell_type": "code",
   "execution_count": 74,
   "metadata": {},
   "outputs": [],
   "source": [
    "from sklearn.metrics.pairwise import cosine_similarity"
   ]
  },
  {
   "cell_type": "code",
   "execution_count": 75,
   "metadata": {},
   "outputs": [],
   "source": [
    "cosine = cosine_similarity(d.values, d.values)"
   ]
  },
  {
   "cell_type": "code",
   "execution_count": 76,
   "metadata": {},
   "outputs": [
    {
     "data": {
      "text/plain": [
       "array([[1.        , 0.92772632, 0.88568295, ..., 0.52360963, 0.96000584,\n",
       "        0.58044957],\n",
       "       [0.92772632, 1.        , 0.96278707, ..., 0.63794981, 0.87124533,\n",
       "        0.70524951],\n",
       "       [0.88568295, 0.96278707, 1.        , ..., 0.75566963, 0.82997767,\n",
       "        0.75048787],\n",
       "       ...,\n",
       "       [0.52360963, 0.63794981, 0.75566963, ..., 1.        , 0.47694255,\n",
       "        0.95272445],\n",
       "       [0.96000584, 0.87124533, 0.82997767, ..., 0.47694255, 1.        ,\n",
       "        0.54898788],\n",
       "       [0.58044957, 0.70524951, 0.75048787, ..., 0.95272445, 0.54898788,\n",
       "        1.        ]])"
      ]
     },
     "execution_count": 76,
     "metadata": {},
     "output_type": "execute_result"
    }
   ],
   "source": [
    "cosine"
   ]
  },
  {
   "cell_type": "code",
   "execution_count": 77,
   "metadata": {},
   "outputs": [
    {
     "data": {
      "text/plain": [
       "172"
      ]
     },
     "execution_count": 77,
     "metadata": {},
     "output_type": "execute_result"
    }
   ],
   "source": [
    "len(data)"
   ]
  },
  {
   "cell_type": "code",
   "execution_count": 78,
   "metadata": {},
   "outputs": [],
   "source": [
    "from collections import defaultdict\n",
    "Related = defaultdict(list)\n",
    "for i in range(len(data)):\n",
    "    for j, cos_value in enumerate(cosine[i]):\n",
    "        if 0.8 < cos_value < 1:\n",
    "            Related[data.place[i]].append(data.place[j])\n",
    "   "
   ]
  },
  {
   "cell_type": "code",
   "execution_count": 79,
   "metadata": {},
   "outputs": [
    {
     "name": "stdout",
     "output_type": "stream",
     "text": [
      "74\n"
     ]
    }
   ],
   "source": [
    " print(len(Related[\"Jim Corbett National Park\"]))"
   ]
  },
  {
   "cell_type": "code",
   "execution_count": 81,
   "metadata": {},
   "outputs": [],
   "source": [
    "import json\n",
    "\n",
    "with open('Related_dict.json', 'w') as f:\n",
    "    json.dump(Related, f)"
   ]
  },
  {
   "cell_type": "code",
   "execution_count": null,
   "metadata": {},
   "outputs": [],
   "source": []
  }
 ],
 "metadata": {
  "kernelspec": {
   "display_name": "Python 3",
   "language": "python",
   "name": "python3"
  },
  "language_info": {
   "codemirror_mode": {
    "name": "ipython",
    "version": 3
   },
   "file_extension": ".py",
   "mimetype": "text/x-python",
   "name": "python",
   "nbconvert_exporter": "python",
   "pygments_lexer": "ipython3",
   "version": "3.8.8"
  }
 },
 "nbformat": 4,
 "nbformat_minor": 2
}
