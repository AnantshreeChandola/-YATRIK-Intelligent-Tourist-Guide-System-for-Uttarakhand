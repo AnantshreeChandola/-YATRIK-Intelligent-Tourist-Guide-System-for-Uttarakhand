{
 "cells": [
  {
   "cell_type": "code",
   "execution_count": 61,
   "metadata": {},
   "outputs": [],
   "source": [
    "import tkinter"
   ]
  },
  {
   "cell_type": "code",
   "execution_count": 62,
   "metadata": {},
   "outputs": [],
   "source": [
    "master = tkinter.Tk()\n",
    "master.title('Welcome! What are you looking forward to?')\n",
    "Adventure = IntVar()\n",
    "Checkbutton(master, text='Adventure', variable=Adventure).grid(row=0, sticky=W)\n",
    "Recreation = IntVar()\n",
    "Checkbutton(master, text='Recreation', variable=Recreation).grid(row=1, sticky=W)\n",
    "Beauty = IntVar()\n",
    "Checkbutton(master, text='Beauty', variable=Beauty).grid(row=2, sticky=W)\n",
    "Pilgrim = IntVar()\n",
    "Checkbutton(master, text='Pilgrim', variable=Pilgrim).grid(row=3, sticky=W)\n",
    "History = IntVar()\n",
    "Checkbutton(master, text='History', variable=History).grid(row=4, sticky=W)\n",
    "Trekcamp = IntVar()\n",
    "Checkbutton(master, text='Trekcamp', variable=Trekcamp).grid(row=5, sticky=W)\n",
    "FoodandCulture = IntVar()\n",
    "Checkbutton(master, text='Food and Culture', variable=FoodandCulture).grid(row=6, sticky=W)\n",
    "mainloop()"
   ]
  },
  {
   "cell_type": "code",
   "execution_count": 63,
   "metadata": {},
   "outputs": [],
   "source": [
    "todo_list = []\n",
    "if Adventure.get() == 1:\n",
    "    todo_list.append('Adventure')\n",
    "if Recreation.get() == 1:\n",
    "    todo_list.append('Recreation')\n",
    "if Beauty.get() == 1:\n",
    "    todo_list.append('Beauty')\n",
    "if Pilgrim.get() == 1:\n",
    "    todo_list.append('Pilgrim')\n",
    "if History.get() == 1:\n",
    "    todo_list.append('History')\n",
    "if Trekcamp.get() == 1:\n",
    "    todo_list.append('Trekcamp')\n",
    "if FoodandCulture.get() == 1:\n",
    "    todo_list.append('Food and Culture')"
   ]
  },
  {
   "cell_type": "code",
   "execution_count": 64,
   "metadata": {},
   "outputs": [
    {
     "data": {
      "text/plain": [
       "['Beauty', 'Pilgrim', 'Trekcamp']"
      ]
     },
     "execution_count": 64,
     "metadata": {},
     "output_type": "execute_result"
    }
   ],
   "source": [
    "todo_list"
   ]
  },
  {
   "cell_type": "code",
   "execution_count": 65,
   "metadata": {},
   "outputs": [],
   "source": [
    "import json\n",
    "categories_cluster0 = []\n",
    "with open('categories_cluster0.json') as f:\n",
    "    categories_cluster0 = json.load(f)"
   ]
  },
  {
   "cell_type": "code",
   "execution_count": 66,
   "metadata": {},
   "outputs": [],
   "source": [
    "categories_cluster1 = []\n",
    "with open('categories_cluster1.json') as f:\n",
    "    categories_cluster1 = json.load(f)"
   ]
  },
  {
   "cell_type": "code",
   "execution_count": 67,
   "metadata": {},
   "outputs": [],
   "source": [
    "categories_cluster2 = []\n",
    "with open('categories_cluster2.json') as f:\n",
    "    categories_cluster2 = json.load(f)"
   ]
  },
  {
   "cell_type": "code",
   "execution_count": 68,
   "metadata": {},
   "outputs": [],
   "source": [
    "categories_cluster3 = []\n",
    "with open('categories_cluster3.json') as f:\n",
    "    categories_cluster3 = json.load(f)"
   ]
  },
  {
   "cell_type": "code",
   "execution_count": 69,
   "metadata": {},
   "outputs": [],
   "source": [
    "categories_cluster0 = set(categories_cluster0)\n",
    "categories_cluster1 = set(categories_cluster1)\n",
    "categories_cluster2 = set(categories_cluster2)\n",
    "categories_cluster3 = set(categories_cluster3)"
   ]
  },
  {
   "cell_type": "code",
   "execution_count": 70,
   "metadata": {},
   "outputs": [],
   "source": [
    "final_categories = None\n",
    "recommendations = None\n",
    "for category in todo_list:\n",
    "    if category not in categories_cluster0:\n",
    "        break\n",
    "else:\n",
    "    final_categories = categories_cluster0\n",
    "    with open('Cluster_0.json') as f:\n",
    "        recommendations = json.load(f)\n",
    "if final_categories == None:\n",
    "    for category in todo_list:\n",
    "        if category not in categories_cluster1:\n",
    "            break\n",
    "    else:\n",
    "        final_categories = categories_cluster1\n",
    "        with open('Cluster_1.json') as f:\n",
    "            recommendations = json.load(f)\n",
    "if final_categories == None:\n",
    "    for category in todo_list:\n",
    "        if category not in categories_cluster2:\n",
    "            break\n",
    "    else:\n",
    "        final_categories = categories_cluster2\n",
    "        with open('Cluster_2.json') as f:\n",
    "            recommendations = json.load(f)\n",
    "if final_categories == None:\n",
    "    for category in todo_list:\n",
    "        if category not in categories_cluster3:\n",
    "            break\n",
    "    else:\n",
    "        final_categories = categories_cluster3\n",
    "        with open('Cluster_3.json') as f:\n",
    "            recommendations = json.load(f)"
   ]
  },
  {
   "cell_type": "code",
   "execution_count": 71,
   "metadata": {},
   "outputs": [
    {
     "data": {
      "text/plain": [
       "['Gangotri',\n",
       " 'Kedarnath',\n",
       " 'Valley Of Flowers',\n",
       " 'Yamunotri',\n",
       " 'Chorabari Tal / Gandhi Sarovar (Near Kedarnath)',\n",
       " 'Bhavishya Badri Temple (Near Auli)',\n",
       " 'Tungnath (Near Kedarnath)',\n",
       " 'Gaumukh / Gomukh (Near Gangotri)',\n",
       " 'Kuari Bugyal / Kuari Pass (Near Auli)',\n",
       " 'Rudranath (Near Kedarnath)',\n",
       " 'Tapovan (Near Gangotri)',\n",
       " 'Vasudhara Falls (Near Badrinath)',\n",
       " 'Kalpeshwar Temple (Near Kedarnath)',\n",
       " 'Mayali Pass Trek (Near Kedarnath)',\n",
       " 'Satopanth Lake (Near Badrinath)',\n",
       " 'Swargarohini (Near Badrinath)',\n",
       " 'Nilkantha Peak (Near Badrinath)',\n",
       " 'Hemkund Sahib / Gurudwara Sri Hemkunt Sahib (Near Badrinath)',\n",
       " 'Joshimath (Near Badrinath)',\n",
       " 'Nandanvan (Near Gangotri)',\n",
       " 'Kedartal (Near Gangotri)',\n",
       " 'Gangotri National Park (Near Gangotri)',\n",
       " 'Saptrishi Kund (Near Yamunotri)',\n",
       " 'Bali Pass Trek (Near Yamunotri)',\n",
       " 'Binsar Wildlife Sanctuary (Near Almora)',\n",
       " 'Bhadraj Temple Trek (Near Mussoorie)',\n",
       " 'Tiger Falls - Chakrata (Near Dehradun)',\n",
       " 'Pindari Glacier Trek (Near Kausani)',\n",
       " 'Vasuki Tal (Near Kedarnath)',\n",
       " 'Chandrashila (Near Kedarnath)',\n",
       " 'Triyuginarayan Temple (Near Kedarnath)',\n",
       " 'Deoria Tal (Near Kedarnath)',\n",
       " 'Dunagiri(Almora)',\n",
       " 'Brahmatal Trek(Chamoli)',\n",
       " 'Madhyamaheshwar',\n",
       " 'Ukhimath',\n",
       " 'Guptkashi',\n",
       " 'Ralam Glacier',\n",
       " 'Jhulaghat',\n",
       " 'Gaurikund',\n",
       " 'Naagtibba',\n",
       " 'Harshil valley',\n",
       " 'Roopkund',\n",
       " 'Kalimath temple',\n",
       " 'Anusuya devi temple',\n",
       " 'Panwali Kantha',\n",
       " 'Khatling Cave/Trek']"
      ]
     },
     "execution_count": 71,
     "metadata": {},
     "output_type": "execute_result"
    }
   ],
   "source": [
    "recommendations"
   ]
  },
  {
   "cell_type": "code",
   "execution_count": 75,
   "metadata": {},
   "outputs": [],
   "source": [
    "root = tkinter.Tk()\n",
    "root.title('Recommendations for you!')\n",
    "t = Text(root)\n",
    "for x in recommendations:\n",
    "    t.insert(END, x + '\\n')\n",
    "t.pack()\n",
    "root.mainloop()"
   ]
  },
  {
   "cell_type": "code",
   "execution_count": null,
   "metadata": {},
   "outputs": [],
   "source": []
  }
 ],
 "metadata": {
  "kernelspec": {
   "display_name": "Python 3",
   "language": "python",
   "name": "python3"
  },
  "language_info": {
   "codemirror_mode": {
    "name": "ipython",
    "version": 3
   },
   "file_extension": ".py",
   "mimetype": "text/x-python",
   "name": "python",
   "nbconvert_exporter": "python",
   "pygments_lexer": "ipython3",
   "version": "3.8.8"
  }
 },
 "nbformat": 4,
 "nbformat_minor": 2
}
